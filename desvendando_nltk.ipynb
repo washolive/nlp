{
 "cells": [
  {
   "cell_type": "markdown",
   "id": "7359315f-2d82-4692-93f6-74b4a6d2490d",
   "metadata": {},
   "source": [
    "# Desvendando a biblioteca NLTK"
   ]
  },
  {
   "cell_type": "code",
   "execution_count": 90,
   "id": "a5562dd3-54c1-4d72-a02a-261bc649b465",
   "metadata": {},
   "outputs": [],
   "source": [
    "import nltk\n",
    "# nltk.download('machado')"
   ]
  },
  {
   "cell_type": "markdown",
   "id": "906fa3e8-aca7-4697-af46-66d04ba9b0f7",
   "metadata": {},
   "source": [
    "## Corpus\n",
    "Obras de Machado de Assis"
   ]
  },
  {
   "cell_type": "code",
   "execution_count": 70,
   "id": "74b1dc62-9d59-45e2-809f-b8d6665186df",
   "metadata": {},
   "outputs": [],
   "source": [
    "from nltk.corpus import machado"
   ]
  },
  {
   "cell_type": "code",
   "execution_count": 8,
   "id": "f7552fa7-5444-4bec-9428-791cf82e1443",
   "metadata": {},
   "outputs": [
    {
     "data": {
      "text/plain": [
       "['contos/macn001.txt',\n",
       " 'contos/macn002.txt',\n",
       " 'contos/macn003.txt',\n",
       " 'contos/macn004.txt',\n",
       " 'contos/macn005.txt',\n",
       " 'contos/macn006.txt',\n",
       " 'contos/macn007.txt',\n",
       " 'contos/macn008.txt',\n",
       " 'contos/macn009.txt',\n",
       " 'contos/macn010.txt']"
      ]
     },
     "execution_count": 8,
     "metadata": {},
     "output_type": "execute_result"
    }
   ],
   "source": [
    "machado.fileids()[:10]"
   ]
  },
  {
   "cell_type": "code",
   "execution_count": 11,
   "id": "577f4e52-b090-4146-b44d-136191eec283",
   "metadata": {},
   "outputs": [
    {
     "data": {
      "text/plain": [
       "'Machado de Assis -- Obra Completa\\n\\nhttp://machado.mec.gov.br/\\n\\nPublic Domain\\n\\nContents:\\n\\nRomance\\n\\nromance/marm01.txt: Ressurreição (1872)\\nromance/marm02.txt: A Mão e a Luva (1874)\\nromance/marm03.txt: Helena (1876)\\nromance/marm04.txt: Iaiá Garcia (1878)\\nromance/marm05.txt: Memórias Póstumas de Brás Cubas (1881)\\nromance/marm06.txt: Casa Velha (1885)\\nromance/marm07.txt: Quincas Borba (1891)\\nromance/marm08.txt: Dom Casmurro (1899)\\nromance/marm09.txt: Esaú e Jacó (1904)\\nromance/marm10.txt: Memorial de Aires (1908)\\n\\nPoesia\\n\\npoesia/maps01.txt: Crisálidas (1864)\\npoesia/maps02.txt: Falenas (1870)\\npoesia/maps03.txt: Americanas (1875)\\npoesia/maps04.txt: Gazeta de Holanda (1886-88)\\npoesia/maps05.txt: Ocidentais (1901)\\npoesia/maps06.txt: O Almada (1908)\\npoesia/maps07.txt: Dispersas (1854-1939)\\n\\nContos\\n\\ncontos/macn001.txt: Contos Fluminenses (1870); Miss Dollar; Luís Soares; A mulher de preto; O segredo de Augusta; Confissões de uma viúva moça; Linha reta e linha curva; Frei Sim\\ncontos/macn002.txt: '"
      ]
     },
     "execution_count": 11,
     "metadata": {},
     "output_type": "execute_result"
    }
   ],
   "source": [
    "machado.readme()[:1000]"
   ]
  },
  {
   "cell_type": "markdown",
   "id": "3c8d0ce9-6a65-4175-8f49-6790a817986b",
   "metadata": {},
   "source": [
    "### Raw Text"
   ]
  },
  {
   "cell_type": "code",
   "execution_count": 15,
   "id": "143ce3de-f88e-4b27-a87d-a43a49c40ed2",
   "metadata": {},
   "outputs": [],
   "source": [
    "filename = 'romance/marm05.txt'"
   ]
  },
  {
   "cell_type": "code",
   "execution_count": 16,
   "id": "d8f6dc4c-b22d-4f8b-b99e-568c8c632454",
   "metadata": {},
   "outputs": [
    {
     "data": {
      "text/plain": [
       "'Romance, Memórias Póstumas de Brás Cubas, 1880\\n\\nMemórias Póstumas de\\nBrás Cubas\\n\\nTexto-fonte:\\nObra Completa, Machado de\\nAssis,\\nRio\\nde Janeiro: Editora Nova Aguilar, 1994.\\n\\nPublicado originalmente em\\nfolhetins, a partir de março de 1880, na Revista Brasileira.\\n\\nAo verme\\nque\\nprimeiro roeu as frias\\ncarnes\\ndo meu cadáver\\n\\ndedico\\ncomo saudosa lembrança\\n\\nestas\\nMemórias\\nPóstumas\\n\\nPrólogo da terceira\\nedição\\n\\nA primeira edição destas\\nMemórias Póstumas de Brás Cubas foi feita aos pedaços na Revista\\nBrasileira, pelos anos de 1880. Postas mais tarde em livro, corrigi o texto em\\nvários lugares. Agora que tive de o rever para a terceira edição, emendei ainda\\nalguma coisa e suprimi duas ou três dúzias de linhas. Assim composta, sai\\nnovamente à luz esta obra que alguma benevolência parece ter encontrado no\\npúblico.\\n\\nCapistrano de Abreu, noticiando a\\npublicação do livro, perguntava: \\x93As Memórias Póstumas de Brás Cubas são\\num romance?\\x94 Macedo Soares, em carta que me escreveu por esse tempo, recordava\\nam'"
      ]
     },
     "execution_count": 16,
     "metadata": {},
     "output_type": "execute_result"
    }
   ],
   "source": [
    "raw_text = machado.raw(filename)\n",
    "raw_text[:1000]"
   ]
  },
  {
   "cell_type": "code",
   "execution_count": 74,
   "id": "2ee13242-2e03-4d62-854f-4e04627de516",
   "metadata": {},
   "outputs": [
    {
     "data": {
      "text/plain": [
       "['Romance', ',', 'Memórias', 'Póstumas', 'de', 'Brás', ...]"
      ]
     },
     "execution_count": 74,
     "metadata": {},
     "output_type": "execute_result"
    }
   ],
   "source": [
    "tokens = machado.words(filename)\n",
    "tokens"
   ]
  },
  {
   "cell_type": "code",
   "execution_count": 75,
   "id": "9e5e8495-937e-45a2-b3f2-5b2515ec1020",
   "metadata": {},
   "outputs": [
    {
     "data": {
      "text/plain": [
       "77098"
      ]
     },
     "execution_count": 75,
     "metadata": {},
     "output_type": "execute_result"
    }
   ],
   "source": [
    "len(tokens)"
   ]
  },
  {
   "cell_type": "markdown",
   "id": "331fa310-4839-4570-972d-fbc77e955706",
   "metadata": {},
   "source": [
    "## A classe Text"
   ]
  },
  {
   "cell_type": "code",
   "execution_count": 20,
   "id": "5acc5272-a16d-414e-a3f5-bc244eb9ccd5",
   "metadata": {},
   "outputs": [],
   "source": [
    "from nltk.text import Text"
   ]
  },
  {
   "cell_type": "code",
   "execution_count": 23,
   "id": "658a0740-a06b-4c0a-8747-17784a0ba93f",
   "metadata": {},
   "outputs": [
    {
     "data": {
      "text/plain": [
       "<Text: Romance , Memórias Póstumas de Brás Cubas ,...>"
      ]
     },
     "execution_count": 23,
     "metadata": {},
     "output_type": "execute_result"
    }
   ],
   "source": [
    "texto = Text(machado.words(filename))\n",
    "texto"
   ]
  },
  {
   "cell_type": "markdown",
   "id": "bd4a1266-8bb7-40b2-8206-359269a569f6",
   "metadata": {},
   "source": [
    "### Concordance"
   ]
  },
  {
   "cell_type": "code",
   "execution_count": 24,
   "id": "6b4eceba-88e7-4e5f-973d-57eafe3d5998",
   "metadata": {},
   "outputs": [
    {
     "name": "stdout",
     "output_type": "stream",
     "text": [
      "Displaying 25 of 138 matches:\n",
      "De pé , à cabeceira da cama , com os olhos estúpidos , a boca entreaberta , a t\n",
      "orelhas . Pela minha parte fechei os olhos e deixei - me ir à ventura . Já agor\n",
      "xões de cérebro enfermo . Como ia de olhos fechados , não via o caminho ; lembr\n",
      "gelos eternos . Com efeito , abri os olhos e vi que o meu animal galopava numa \n",
      "me apareceu então , fitando - me uns olhos rutilantes como o sol . Tudo nessa f\n",
      " mim mesmo . Então , encarei - a com olhos súplices , e pedi mais alguns anos .\n",
      "o alto de uma montanha . Inclinei os olhos a uma das vertentes , e contemplei ,\n",
      "ilhão , e , não obstante , porque os olhos do delírio são outros , eu via tudo \n",
      "cifração da eternidade . E fixei os olhos , e continuei a ver as idades , que \n",
      " esperto , concordava meu pai ; e os olhos babavam - se - lhe de orgulho , e el\n",
      "te , e , repetido o mote , cravar os olhos na testa de uma senhora , depois tos\n",
      "avrear de estômagos satisfeitos ; os olhos moles e úmidos , ou vivos e cálidos \n",
      "m estacado de orquestra , e todos os olhos se voltavam para o glosador . Quem f\n",
      " . Eu via isso , porque arrastava os olhos da compota para ele e dele para a co\n",
      " eu segui - os . O Vilaça levava nos olhos umas chispas de vinho e de volúpia .\n",
      "es ... D . Eusébia levou o lenço aos olhos . O glosador vasculhava na memória a\n",
      " estupefação imobilizou a todos ; os olhos espraiavam - se a uma e outra banda \n",
      "a aula , dava um pulo , circulava os olhos chamejantes , dizia - nos os últimos\n",
      ", deixava - se estar quieto , com os olhos espetados no ar . Uma flor , o Quinc\n",
      "u forcejava por trazer a bigode . Os olhos , vivos e resolutos , eram a minha f\n",
      " pensativa , ou levantou para mim os olhos cobiçosos . De todas porém a que me \n",
      "pouco ou nada comi , porque só tinha olhos para a dona da casa . Que gentil que\n",
      "erramava - se - lhe a felicidade dos olhos , e eu sentia - me feliz com vê - la\n",
      " meu amor ! Eu agradeci - lho com os olhos úmidos . No dia seguinte levei - lhe\n",
      "proposta . Marcela ouviu - me com os olhos no ar , sem responder logo ; como in\n"
     ]
    }
   ],
   "source": [
    "texto.concordance('olhos')"
   ]
  },
  {
   "cell_type": "markdown",
   "id": "16aa58b6-81d4-45d6-b8d8-9aacc232826c",
   "metadata": {},
   "source": [
    "### Similar"
   ]
  },
  {
   "cell_type": "code",
   "execution_count": 43,
   "id": "5ef0ecbf-8614-435f-9b14-4af80449dd12",
   "metadata": {},
   "outputs": [
    {
     "name": "stdout",
     "output_type": "stream",
     "text": [
      "outros anos versos dedos dias braços tempos homens joelhos ossos que\n",
      "meus dizia depois doidos ombros amores séculos ouvidos instantes\n"
     ]
    }
   ],
   "source": [
    "texto.similar('olhos')"
   ]
  },
  {
   "cell_type": "markdown",
   "id": "163ffd76-8b57-4e44-bd7d-f1ba22069d98",
   "metadata": {},
   "source": [
    "### Expressões regulares"
   ]
  },
  {
   "cell_type": "code",
   "execution_count": 64,
   "id": "3d72bee5-d5f6-456a-9663-70c286eb0d38",
   "metadata": {},
   "outputs": [
    {
     "name": "stdout",
     "output_type": "stream",
     "text": [
      "olhos estúpidos; olhos e; olhos fechados; olhos e; olhos rutilantes;\n",
      "olhos súplices; olhos a; olhos do; olhos ,; olhos babavam; olhos na;\n",
      "olhos moles; olhos se; olhos da; olhos umas; olhos .; olhos\n",
      "espraiavam; olhos chamejantes; olhos espetados; olhos ,; olhos\n",
      "cobiçosos; olhos para; olhos ,; olhos úmidos; olhos no; olhos ;; olhos\n",
      "de; olhos de; olhos fitos; olhos a; olhos naquele; olhos do; olhos ,;\n",
      "olhos pretos; olhos as; olhos estúpidos; olhos ao; olhos às; olhos\n",
      "...; olhos ,; olhos fúlgidos; olhos de; olhos ,; olhos .; olhos de;\n",
      "olhos pretos; olhos tão; olhos de; olhos para; olhos a; olhos\n",
      "chisparam; olhos para; olhos me; olhos da; olhos ,; olhos ,; olhos\n",
      "uma; olhos no; olhos na; olhos para; olhos se; olhos em; olhos .;\n",
      "olhos em; olhos .; olhos de; olhos ,; olhos no; olhos nela; olhos\n",
      "tinham; olhos ;; olhos cintilantes; olhos o; olhos dos; olhos e; olhos\n",
      ",; olhos de; olhos de; olhos dela; olhos vermelhos; olhos .; olhos e;\n",
      "olhos .; olhos o; olhos ,; olhos constantemente; olhos para; olhos ,;\n",
      "olhos ,; olhos para; olhos ,; olhos ao; olhos ,; olhos na; olhos na;\n",
      "olhos baixos; olhos no; olhos mais; olhos no; olhos se; olhos dela;\n",
      "olhos do; olhos no; olhos ,; olhos lampejantes; olhos rasos; olhos\n",
      "todos; olhos ,; olhos e; olhos do; olhos pelos; olhos de; olhos ao;\n",
      "olhos .; olhos lhe; olhos de; olhos enfermos; olhos :; olhos ,; olhos\n",
      ".; olhos e; olhos da; olhos fixos; olhos .; olhos fitos; olhos ,;\n",
      "olhos ,; olhos bonitos; olhos de; olhos ...; olhos .; olhos de; olhos\n",
      "algum; olhos a; olhos ;; olhos fitos; olhos em\n"
     ]
    }
   ],
   "source": [
    "texto.findall(r'<olhos><.*>')"
   ]
  },
  {
   "cell_type": "markdown",
   "id": "c40df7d1-ca1b-4def-bfd8-6614e1f61a00",
   "metadata": {},
   "source": [
    "### Stopwords"
   ]
  },
  {
   "cell_type": "code",
   "execution_count": 65,
   "id": "7fc42e53-26c6-41a9-873e-9ea98a177e6a",
   "metadata": {},
   "outputs": [
    {
     "data": {
      "text/plain": [
       "['de', 'a', 'o', 'que', 'e', 'é', 'do', 'da', 'em', 'um']"
      ]
     },
     "execution_count": 65,
     "metadata": {},
     "output_type": "execute_result"
    }
   ],
   "source": [
    "stopwords = nltk.corpus.stopwords.words('portuguese')\n",
    "stopwords[:10]"
   ]
  },
  {
   "cell_type": "markdown",
   "id": "9fcd61c4-f0f4-40e2-b1b8-fd6fa77e1f89",
   "metadata": {},
   "source": [
    "### N-grams\n",
    "No NLTK, o método `bigrams()` extrai pares de palavras de uma lista de tokens.  \n",
    "Exemplo:"
   ]
  },
  {
   "cell_type": "code",
   "execution_count": 76,
   "id": "3e53820c-a727-4b08-aa28-b6bf92bbe752",
   "metadata": {},
   "outputs": [
    {
     "data": {
      "text/plain": [
       "['Romance', ',', 'Memórias', 'Póstumas', 'de', 'Brás', ...]"
      ]
     },
     "execution_count": 76,
     "metadata": {},
     "output_type": "execute_result"
    }
   ],
   "source": [
    "tokens"
   ]
  },
  {
   "cell_type": "code",
   "execution_count": 81,
   "id": "4dab7b60-b828-437c-a5e4-61acc13448c1",
   "metadata": {},
   "outputs": [
    {
     "data": {
      "text/plain": [
       "[('Romance', ','),\n",
       " (',', 'Memórias'),\n",
       " ('Memórias', 'Póstumas'),\n",
       " ('Póstumas', 'de'),\n",
       " ('de', 'Brás'),\n",
       " ('Brás', 'Cubas'),\n",
       " ('Cubas', ','),\n",
       " (',', '1880'),\n",
       " ('1880', 'Memórias'),\n",
       " ('Memórias', 'Póstumas')]"
      ]
     },
     "execution_count": 81,
     "metadata": {},
     "output_type": "execute_result"
    }
   ],
   "source": [
    "list(nltk.bigrams(tokens))[:10]"
   ]
  },
  {
   "cell_type": "markdown",
   "id": "9eafb1d3-8b5c-47b2-9088-62a244bf9401",
   "metadata": {},
   "source": [
    "### Collocations\n",
    "Em linguística, uma **colocação** é uma sequência de palavras ou termos que coocorrem mais frequentemente do que o esperado por acaso.  \n",
    "Por exemplo, *\"vinho tinto\"* é uma colocação enquanto que *\"o vinho\"* não é.  \n",
    "No NLTK, usa-se o `collocations` para encontrar bigramas que ocorram mais frequentemente do que o esperado, tendo por base a frequência das palavras individuais."
   ]
  },
  {
   "cell_type": "code",
   "execution_count": 82,
   "id": "9688ecaa-7ffa-4c5a-b83b-59adbd26b2d4",
   "metadata": {},
   "outputs": [
    {
     "name": "stdout",
     "output_type": "stream",
     "text": [
      "Quincas Borba; Lobo Neves; alguma coisa; Brás Cubas; meu pai; que não;\n",
      "dia seguinte; não sei; Com efeito; que era; Meu pai; alguns instantes;\n",
      "outra vez; outra coisa; por exemplo; que ele; mim mesmo; coisa\n",
      "nenhuma; mesma coisa; não era\n"
     ]
    }
   ],
   "source": [
    "texto.collocations()"
   ]
  },
  {
   "cell_type": "markdown",
   "id": "8af48313-0d58-4d09-b84a-bf5562eed30c",
   "metadata": {},
   "source": [
    "### Stemming"
   ]
  },
  {
   "cell_type": "code",
   "execution_count": 91,
   "id": "9b7ca661-1094-4207-8793-44539b751cb9",
   "metadata": {},
   "outputs": [
    {
     "data": {
      "text/plain": [
       "'copi'"
      ]
     },
     "execution_count": 91,
     "metadata": {},
     "output_type": "execute_result"
    }
   ],
   "source": [
    "# nltk.download('rslp')\n",
    "stemmer = nltk.stem.RSLPStemmer()\n",
    "stemmer.stem('copiar')"
   ]
  },
  {
   "cell_type": "code",
   "execution_count": 92,
   "id": "c1db3626-a24c-42a6-b6fd-a623c23da0bc",
   "metadata": {},
   "outputs": [
    {
     "data": {
      "text/plain": [
       "'chamej'"
      ]
     },
     "execution_count": 92,
     "metadata": {},
     "output_type": "execute_result"
    }
   ],
   "source": [
    "stemmer.stem('chamejante')"
   ]
  }
 ],
 "metadata": {
  "kernelspec": {
   "display_name": "Python 3 (ipykernel)",
   "language": "python",
   "name": "python3"
  },
  "language_info": {
   "codemirror_mode": {
    "name": "ipython",
    "version": 3
   },
   "file_extension": ".py",
   "mimetype": "text/x-python",
   "name": "python",
   "nbconvert_exporter": "python",
   "pygments_lexer": "ipython3",
   "version": "3.8.12"
  }
 },
 "nbformat": 4,
 "nbformat_minor": 5
}
